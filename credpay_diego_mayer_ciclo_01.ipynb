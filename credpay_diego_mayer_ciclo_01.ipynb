{
 "cells": [
  {
   "cell_type": "markdown",
   "id": "82d63608",
   "metadata": {},
   "source": [
    "# Credpay Finances Business solutions"
   ]
  },
  {
   "cell_type": "markdown",
   "id": "928e1dae",
   "metadata": {
    "ExecuteTime": {
     "end_time": "2021-05-22T18:27:33.997707Z",
     "start_time": "2021-05-22T18:27:33.992636Z"
    },
    "heading_collapsed": true
   },
   "source": [
    "## 1.0 Libraries and Functions"
   ]
  },
  {
   "cell_type": "markdown",
   "id": "2abfe14b",
   "metadata": {
    "ExecuteTime": {
     "end_time": "2021-05-22T18:27:33.997707Z",
     "start_time": "2021-05-22T18:27:33.992636Z"
    },
    "heading_collapsed": true,
    "hidden": true
   },
   "source": [
    "### 1.1 Libraries"
   ]
  },
  {
   "cell_type": "code",
   "execution_count": 2,
   "id": "d27c746d",
   "metadata": {
    "ExecuteTime": {
     "end_time": "2021-05-22T18:32:54.046879Z",
     "start_time": "2021-05-22T18:32:52.098275Z"
    },
    "hidden": true
   },
   "outputs": [],
   "source": [
    "import pandas as pd\n",
    "import numpy as np\n",
    "import seaborn as sns\n",
    "import matplotlib.pyplot as plt\n",
    "import plotly.express as px"
   ]
  },
  {
   "cell_type": "markdown",
   "id": "cf899712",
   "metadata": {
    "ExecuteTime": {
     "end_time": "2021-05-22T18:27:33.997707Z",
     "start_time": "2021-05-22T18:27:33.992636Z"
    },
    "heading_collapsed": true,
    "hidden": true
   },
   "source": [
    "### 1.2 Functions"
   ]
  },
  {
   "cell_type": "code",
   "execution_count": 3,
   "id": "0cbb363f",
   "metadata": {
    "ExecuteTime": {
     "end_time": "2021-05-22T18:34:04.937861Z",
     "start_time": "2021-05-22T18:34:04.925235Z"
    },
    "hidden": true
   },
   "outputs": [],
   "source": [
    "def jupyter_settings():\n",
    "    pass"
   ]
  },
  {
   "cell_type": "markdown",
   "id": "81da3e70",
   "metadata": {
    "ExecuteTime": {
     "end_time": "2021-05-22T18:27:33.997707Z",
     "start_time": "2021-05-22T18:27:33.992636Z"
    }
   },
   "source": [
    "## 2.0 Data Extraction"
   ]
  },
  {
   "cell_type": "code",
   "execution_count": 13,
   "id": "5a9f2eb1",
   "metadata": {
    "ExecuteTime": {
     "end_time": "2021-05-22T22:21:26.219237Z",
     "start_time": "2021-05-22T22:21:24.495753Z"
    }
   },
   "outputs": [
    {
     "name": "stdout",
     "output_type": "stream",
     "text": [
      "Downloading credit-risk-dataset.zip to /home/diegopmayer/Documents/projects/credpay_default_prediction\n",
      "100%|████████████████████████████████████████| 368k/368k [00:00<00:00, 2.06MB/s]\n",
      "100%|████████████████████████████████████████| 368k/368k [00:00<00:00, 2.04MB/s]\n"
     ]
    }
   ],
   "source": [
    "# Using kaggle API for download dataset\n",
    "!kaggle datasets download -d laotse/credit-risk-dataset\n",
    "# Extracting file from zip\n",
    "!unzip credit-risk-dataset.zip \n",
    "# creating folder dataset and copy to folder the csv file\n",
    "!mkdir dataset & !cp credit_risk_dataset.csv dataset/"
   ]
  },
  {
   "cell_type": "code",
   "execution_count": 26,
   "id": "f8cb51c8",
   "metadata": {
    "ExecuteTime": {
     "end_time": "2021-05-22T22:41:06.238993Z",
     "start_time": "2021-05-22T22:41:06.115758Z"
    }
   },
   "outputs": [],
   "source": [
    "base_credit = pd.read_csv('dataset/credit_risk_dataset.csv')"
   ]
  },
  {
   "cell_type": "markdown",
   "id": "9ffa9332",
   "metadata": {
    "ExecuteTime": {
     "end_time": "2021-05-22T18:27:33.997707Z",
     "start_time": "2021-05-22T18:27:33.992636Z"
    }
   },
   "source": [
    "## 3.0 Descriptive Analysis"
   ]
  },
  {
   "cell_type": "code",
   "execution_count": 30,
   "id": "9eb6ad53",
   "metadata": {
    "ExecuteTime": {
     "end_time": "2021-05-22T22:46:37.494206Z",
     "start_time": "2021-05-22T22:46:37.487191Z"
    }
   },
   "outputs": [
    {
     "data": {
      "text/plain": [
       "(32581, 12)"
      ]
     },
     "execution_count": 30,
     "metadata": {},
     "output_type": "execute_result"
    }
   ],
   "source": [
    "# Dimension\n",
    "base_credit.shape"
   ]
  },
  {
   "cell_type": "markdown",
   "id": "03fe9765",
   "metadata": {
    "ExecuteTime": {
     "end_time": "2021-05-22T18:27:33.997707Z",
     "start_time": "2021-05-22T18:27:33.992636Z"
    }
   },
   "source": [
    "### 3.1 NaN"
   ]
  },
  {
   "cell_type": "code",
   "execution_count": 28,
   "id": "501c2b72",
   "metadata": {
    "ExecuteTime": {
     "end_time": "2021-05-22T22:43:53.084067Z",
     "start_time": "2021-05-22T22:43:53.023331Z"
    }
   },
   "outputs": [
    {
     "data": {
      "text/plain": [
       "person_age                       0\n",
       "person_income                    0\n",
       "person_home_ownership            0\n",
       "person_emp_length              895\n",
       "loan_intent                      0\n",
       "loan_grade                       0\n",
       "loan_amnt                        0\n",
       "loan_int_rate                 3116\n",
       "loan_status                      0\n",
       "loan_percent_income              0\n",
       "cb_person_default_on_file        0\n",
       "cb_person_cred_hist_length       0\n",
       "dtype: int64"
      ]
     },
     "execution_count": 28,
     "metadata": {},
     "output_type": "execute_result"
    }
   ],
   "source": [
    "base_credit.isna().sum()"
   ]
  },
  {
   "cell_type": "code",
   "execution_count": 41,
   "id": "4fd963ab",
   "metadata": {
    "ExecuteTime": {
     "end_time": "2021-05-22T23:08:35.654391Z",
     "start_time": "2021-05-22T23:08:35.125058Z"
    }
   },
   "outputs": [
    {
     "data": {
      "image/png": "[encoded data removed]",
      "text/plain": [
       "<Figure size 360x360 with 1 Axes>"
      ]
     },
     "metadata": {
      "needs_background": "light"
     },
     "output_type": "display_data"
    }
   ],
   "source": [
    "sns.displot(base_credit['person_emp_length'], kind='kde');"
   ]
  },
  {
   "cell_type": "code",
   "execution_count": 45,
   "id": "9baf7bff",
   "metadata": {
    "ExecuteTime": {
     "end_time": "2021-05-22T23:10:12.853977Z",
     "start_time": "2021-05-22T23:10:12.471213Z"
    }
   },
   "outputs": [
    {
     "data": {
      "image/png": "[encoded data removed]",
      "text/plain": [
       "<Figure size 360x360 with 1 Axes>"
      ]
     },
     "metadata": {
      "needs_background": "light"
     },
     "output_type": "display_data"
    }
   ],
   "source": [
    "base_credit['person_emp_length'] = base_credit['person_emp_length'].fillna(\n",
    "                                    base_credit['person_emp_length'].mean())\n",
    "sns.displot(base_credit['person_emp_length'], kind='kde');"
   ]
  },
  {
   "cell_type": "code",
   "execution_count": 35,
   "id": "cc5ff8f2",
   "metadata": {
    "ExecuteTime": {
     "end_time": "2021-05-22T23:01:58.480912Z",
     "start_time": "2021-05-22T23:01:58.094525Z"
    }
   },
   "outputs": [
    {
     "data": {
      "image/png": "[encoded data removed]",
      "text/plain": [
       "<Figure size 360x360 with 1 Axes>"
      ]
     },
     "metadata": {
      "needs_background": "light"
     },
     "output_type": "display_data"
    }
   ],
   "source": [
    "# Visualizing distribution and see if it will better replace per mean or median or zero\n",
    "sns.displot(base_credit['loan_int_rate'], kind='kde');"
   ]
  },
  {
   "cell_type": "code",
   "execution_count": 46,
   "id": "cd81ecfc",
   "metadata": {
    "ExecuteTime": {
     "end_time": "2021-05-22T23:10:30.572024Z",
     "start_time": "2021-05-22T23:10:30.177409Z"
    }
   },
   "outputs": [
    {
     "data": {
      "image/png": "[encoded data removed]",
      "text/plain": [
       "<Figure size 360x360 with 1 Axes>"
      ]
     },
     "metadata": {
      "needs_background": "light"
     },
     "output_type": "display_data"
    }
   ],
   "source": [
    "base_credit['loan_int_rate'] = base_credit['loan_int_rate'].fillna(base_credit['loan_int_rate'].mean())\n",
    "sns.displot(base_credit['loan_int_rate'], kind='kde');"
   ]
  },
  {
   "cell_type": "code",
   "execution_count": 47,
   "id": "d0c0024a",
   "metadata": {
    "ExecuteTime": {
     "end_time": "2021-05-23T13:35:30.141263Z",
     "start_time": "2021-05-23T13:35:30.057275Z"
    }
   },
   "outputs": [
    {
     "data": {
      "text/plain": [
       "person_age                    0\n",
       "person_income                 0\n",
       "person_home_ownership         0\n",
       "person_emp_length             0\n",
       "loan_intent                   0\n",
       "loan_grade                    0\n",
       "loan_amnt                     0\n",
       "loan_int_rate                 0\n",
       "loan_status                   0\n",
       "loan_percent_income           0\n",
       "cb_person_default_on_file     0\n",
       "cb_person_cred_hist_length    0\n",
       "dtype: int64"
      ]
     },
     "execution_count": 47,
     "metadata": {},
     "output_type": "execute_result"
    }
   ],
   "source": [
    "base_credit.isna().sum()"
   ]
  },
  {
   "cell_type": "markdown",
   "id": "e3001ac5",
   "metadata": {
    "ExecuteTime": {
     "end_time": "2021-05-22T18:27:33.997707Z",
     "start_time": "2021-05-22T18:27:33.992636Z"
    }
   },
   "source": [
    "### 3.2 DataType"
   ]
  },
  {
   "cell_type": "code",
   "execution_count": 67,
   "id": "ab3f262e",
   "metadata": {
    "ExecuteTime": {
     "end_time": "2021-05-24T12:47:10.298746Z",
     "start_time": "2021-05-24T12:47:10.275592Z"
    }
   },
   "outputs": [
    {
     "data": {
      "text/html": [
       "<div>\n",
       "<style scoped>\n",
       "    .dataframe tbody tr th:only-of-type {\n",
       "        vertical-align: middle;\n",
       "    }\n",
       "\n",
       "    .dataframe tbody tr th {\n",
       "        vertical-align: top;\n",
       "    }\n",
       "\n",
       "    .dataframe thead th {\n",
       "        text-align: right;\n",
       "    }\n",
       "</style>\n",
       "<table border=\"1\" class=\"dataframe\">\n",
       "  <thead>\n",
       "    <tr style=\"text-align: right;\">\n",
       "      <th></th>\n",
       "      <th>person_age</th>\n",
       "      <th>person_income</th>\n",
       "      <th>person_home_ownership</th>\n",
       "      <th>person_emp_length</th>\n",
       "      <th>loan_intent</th>\n",
       "      <th>loan_grade</th>\n",
       "      <th>loan_amnt</th>\n",
       "      <th>loan_int_rate</th>\n",
       "      <th>loan_status</th>\n",
       "      <th>loan_percent_income</th>\n",
       "      <th>cb_person_default_on_file</th>\n",
       "      <th>cb_person_cred_hist_length</th>\n",
       "    </tr>\n",
       "  </thead>\n",
       "  <tbody>\n",
       "    <tr>\n",
       "      <th>32297</th>\n",
       "      <td>144</td>\n",
       "      <td>6000000</td>\n",
       "      <td>MORTGAGE</td>\n",
       "      <td>12.0</td>\n",
       "      <td>PERSONAL</td>\n",
       "      <td>C</td>\n",
       "      <td>5000</td>\n",
       "      <td>12.73</td>\n",
       "      <td>0</td>\n",
       "      <td>0.0</td>\n",
       "      <td>N</td>\n",
       "      <td>25</td>\n",
       "    </tr>\n",
       "  </tbody>\n",
       "</table>\n",
       "</div>"
      ],
      "text/plain": [
       "       person_age  person_income person_home_ownership  person_emp_length  \\\n",
       "32297         144        6000000              MORTGAGE               12.0   \n",
       "\n",
       "      loan_intent loan_grade  loan_amnt  loan_int_rate  loan_status  \\\n",
       "32297    PERSONAL          C       5000          12.73            0   \n",
       "\n",
       "       loan_percent_income cb_person_default_on_file  \\\n",
       "32297                  0.0                         N   \n",
       "\n",
       "       cb_person_cred_hist_length  \n",
       "32297                          25  "
      ]
     },
     "execution_count": 67,
     "metadata": {},
     "output_type": "execute_result"
    }
   ],
   "source": [
    "base_credit[base_credit['person_income'] >= base_credit['person_income'].max()]"
   ]
  },
  {
   "cell_type": "code",
   "execution_count": 48,
   "id": "23481acd",
   "metadata": {
    "ExecuteTime": {
     "end_time": "2021-05-23T13:35:47.045024Z",
     "start_time": "2021-05-23T13:35:46.961717Z"
    }
   },
   "outputs": [
    {
     "name": "stdout",
     "output_type": "stream",
     "text": [
      "<class 'pandas.core.frame.DataFrame'>\n",
      "RangeIndex: 32581 entries, 0 to 32580\n",
      "Data columns (total 12 columns):\n",
      " #   Column                      Non-Null Count  Dtype  \n",
      "---  ------                      --------------  -----  \n",
      " 0   person_age                  32581 non-null  int64  \n",
      " 1   person_income               32581 non-null  int64  \n",
      " 2   person_home_ownership       32581 non-null  object \n",
      " 3   person_emp_length           32581 non-null  float64\n",
      " 4   loan_intent                 32581 non-null  object \n",
      " 5   loan_grade                  32581 non-null  object \n",
      " 6   loan_amnt                   32581 non-null  int64  \n",
      " 7   loan_int_rate               32581 non-null  float64\n",
      " 8   loan_status                 32581 non-null  int64  \n",
      " 9   loan_percent_income         32581 non-null  float64\n",
      " 10  cb_person_default_on_file   32581 non-null  object \n",
      " 11  cb_person_cred_hist_length  32581 non-null  int64  \n",
      "dtypes: float64(3), int64(5), object(4)\n",
      "memory usage: 3.0+ MB\n"
     ]
    }
   ],
   "source": [
    "base_credit.info()"
   ]
  },
  {
   "cell_type": "code",
   "execution_count": 55,
   "id": "57a355a7",
   "metadata": {
    "ExecuteTime": {
     "end_time": "2021-05-23T13:43:05.130708Z",
     "start_time": "2021-05-23T13:43:05.091125Z"
    }
   },
   "outputs": [
    {
     "data": {
      "text/html": [
       "<div>\n",
       "<style scoped>\n",
       "    .dataframe tbody tr th:only-of-type {\n",
       "        vertical-align: middle;\n",
       "    }\n",
       "\n",
       "    .dataframe tbody tr th {\n",
       "        vertical-align: top;\n",
       "    }\n",
       "\n",
       "    .dataframe thead th {\n",
       "        text-align: right;\n",
       "    }\n",
       "</style>\n",
       "<table border=\"1\" class=\"dataframe\">\n",
       "  <thead>\n",
       "    <tr style=\"text-align: right;\">\n",
       "      <th></th>\n",
       "      <th>person_age</th>\n",
       "      <th>person_income</th>\n",
       "      <th>person_home_ownership</th>\n",
       "      <th>person_emp_length</th>\n",
       "      <th>loan_intent</th>\n",
       "      <th>loan_grade</th>\n",
       "      <th>loan_amnt</th>\n",
       "      <th>loan_int_rate</th>\n",
       "      <th>loan_status</th>\n",
       "      <th>loan_percent_income</th>\n",
       "      <th>cb_person_default_on_file</th>\n",
       "      <th>cb_person_cred_hist_length</th>\n",
       "    </tr>\n",
       "  </thead>\n",
       "  <tbody>\n",
       "    <tr>\n",
       "      <th>32576</th>\n",
       "      <td>57</td>\n",
       "      <td>53000</td>\n",
       "      <td>MORTGAGE</td>\n",
       "      <td>1.0</td>\n",
       "      <td>PERSONAL</td>\n",
       "      <td>C</td>\n",
       "      <td>5800</td>\n",
       "      <td>13.16</td>\n",
       "      <td>0</td>\n",
       "      <td>0.11</td>\n",
       "      <td>N</td>\n",
       "      <td>30</td>\n",
       "    </tr>\n",
       "    <tr>\n",
       "      <th>32577</th>\n",
       "      <td>54</td>\n",
       "      <td>120000</td>\n",
       "      <td>MORTGAGE</td>\n",
       "      <td>4.0</td>\n",
       "      <td>PERSONAL</td>\n",
       "      <td>A</td>\n",
       "      <td>17625</td>\n",
       "      <td>7.49</td>\n",
       "      <td>0</td>\n",
       "      <td>0.15</td>\n",
       "      <td>N</td>\n",
       "      <td>19</td>\n",
       "    </tr>\n",
       "    <tr>\n",
       "      <th>32578</th>\n",
       "      <td>65</td>\n",
       "      <td>76000</td>\n",
       "      <td>RENT</td>\n",
       "      <td>3.0</td>\n",
       "      <td>HOMEIMPROVEMENT</td>\n",
       "      <td>B</td>\n",
       "      <td>35000</td>\n",
       "      <td>10.99</td>\n",
       "      <td>1</td>\n",
       "      <td>0.46</td>\n",
       "      <td>N</td>\n",
       "      <td>28</td>\n",
       "    </tr>\n",
       "    <tr>\n",
       "      <th>32579</th>\n",
       "      <td>56</td>\n",
       "      <td>150000</td>\n",
       "      <td>MORTGAGE</td>\n",
       "      <td>5.0</td>\n",
       "      <td>PERSONAL</td>\n",
       "      <td>B</td>\n",
       "      <td>15000</td>\n",
       "      <td>11.48</td>\n",
       "      <td>0</td>\n",
       "      <td>0.10</td>\n",
       "      <td>N</td>\n",
       "      <td>26</td>\n",
       "    </tr>\n",
       "    <tr>\n",
       "      <th>32580</th>\n",
       "      <td>66</td>\n",
       "      <td>42000</td>\n",
       "      <td>RENT</td>\n",
       "      <td>2.0</td>\n",
       "      <td>MEDICAL</td>\n",
       "      <td>B</td>\n",
       "      <td>6475</td>\n",
       "      <td>9.99</td>\n",
       "      <td>0</td>\n",
       "      <td>0.15</td>\n",
       "      <td>N</td>\n",
       "      <td>30</td>\n",
       "    </tr>\n",
       "  </tbody>\n",
       "</table>\n",
       "</div>"
      ],
      "text/plain": [
       "       person_age  person_income person_home_ownership  person_emp_length  \\\n",
       "32576          57          53000              MORTGAGE                1.0   \n",
       "32577          54         120000              MORTGAGE                4.0   \n",
       "32578          65          76000                  RENT                3.0   \n",
       "32579          56         150000              MORTGAGE                5.0   \n",
       "32580          66          42000                  RENT                2.0   \n",
       "\n",
       "           loan_intent loan_grade  loan_amnt  loan_int_rate  loan_status  \\\n",
       "32576         PERSONAL          C       5800          13.16            0   \n",
       "32577         PERSONAL          A      17625           7.49            0   \n",
       "32578  HOMEIMPROVEMENT          B      35000          10.99            1   \n",
       "32579         PERSONAL          B      15000          11.48            0   \n",
       "32580          MEDICAL          B       6475           9.99            0   \n",
       "\n",
       "       loan_percent_income cb_person_default_on_file  \\\n",
       "32576                 0.11                         N   \n",
       "32577                 0.15                         N   \n",
       "32578                 0.46                         N   \n",
       "32579                 0.10                         N   \n",
       "32580                 0.15                         N   \n",
       "\n",
       "       cb_person_cred_hist_length  \n",
       "32576                          30  \n",
       "32577                          19  \n",
       "32578                          28  \n",
       "32579                          26  \n",
       "32580                          30  "
      ]
     },
     "execution_count": 55,
     "metadata": {},
     "output_type": "execute_result"
    }
   ],
   "source": [
    "base_credit.tail()"
   ]
  },
  {
   "cell_type": "code",
   "execution_count": 53,
   "id": "fe42e278",
   "metadata": {
    "ExecuteTime": {
     "end_time": "2021-05-23T13:41:20.047900Z",
     "start_time": "2021-05-23T13:41:20.029856Z"
    }
   },
   "outputs": [
    {
     "data": {
      "text/plain": [
       "0    59000.0\n",
       "1     9600.0\n",
       "2     9600.0\n",
       "3    65500.0\n",
       "4    54400.0\n",
       "Name: person_income, dtype: float64"
      ]
     },
     "execution_count": 53,
     "metadata": {},
     "output_type": "execute_result"
    }
   ],
   "source": [
    "base_credit['person_income'] = base_credit['person_income'].astype('float64').copy()\n",
    "base_credit['loan_amnt'] = base_credit['loan_amnt'].astype('float64').copy()"
   ]
  },
  {
   "cell_type": "code",
   "execution_count": 54,
   "id": "eea6f416",
   "metadata": {
    "ExecuteTime": {
     "end_time": "2021-05-23T13:42:31.620541Z",
     "start_time": "2021-05-23T13:42:31.600697Z"
    }
   },
   "outputs": [
    {
     "data": {
      "text/plain": [
       "0.000000      4105\n",
       "2.000000      3849\n",
       "3.000000      3456\n",
       "5.000000      2946\n",
       "1.000000      2915\n",
       "4.000000      2874\n",
       "6.000000      2666\n",
       "7.000000      2196\n",
       "8.000000      1687\n",
       "9.000000      1367\n",
       "4.789686       895\n",
       "11.000000      740\n",
       "10.000000      696\n",
       "12.000000      575\n",
       "13.000000      426\n",
       "14.000000      335\n",
       "15.000000      238\n",
       "16.000000      165\n",
       "17.000000      129\n",
       "18.000000      104\n",
       "19.000000       64\n",
       "20.000000       42\n",
       "21.000000       38\n",
       "22.000000       19\n",
       "24.000000       10\n",
       "23.000000       10\n",
       "25.000000        8\n",
       "26.000000        6\n",
       "27.000000        5\n",
       "31.000000        4\n",
       "28.000000        3\n",
       "123.000000       2\n",
       "30.000000        2\n",
       "34.000000        1\n",
       "29.000000        1\n",
       "41.000000        1\n",
       "38.000000        1\n",
       "Name: person_emp_length, dtype: int64"
      ]
     },
     "execution_count": 54,
     "metadata": {},
     "output_type": "execute_result"
    }
   ],
   "source": [
    "base_credit['person_emp_length'].value_counts()"
   ]
  },
  {
   "cell_type": "code",
   "execution_count": 50,
   "id": "f278256a",
   "metadata": {
    "ExecuteTime": {
     "end_time": "2021-05-23T13:39:54.886955Z",
     "start_time": "2021-05-23T13:39:54.824181Z"
    }
   },
   "outputs": [
    {
     "data": {
      "text/html": [
       "<div>\n",
       "<style scoped>\n",
       "    .dataframe tbody tr th:only-of-type {\n",
       "        vertical-align: middle;\n",
       "    }\n",
       "\n",
       "    .dataframe tbody tr th {\n",
       "        vertical-align: top;\n",
       "    }\n",
       "\n",
       "    .dataframe thead th {\n",
       "        text-align: right;\n",
       "    }\n",
       "</style>\n",
       "<table border=\"1\" class=\"dataframe\">\n",
       "  <thead>\n",
       "    <tr style=\"text-align: right;\">\n",
       "      <th></th>\n",
       "      <th>count</th>\n",
       "      <th>mean</th>\n",
       "      <th>std</th>\n",
       "      <th>min</th>\n",
       "      <th>25%</th>\n",
       "      <th>50%</th>\n",
       "      <th>75%</th>\n",
       "      <th>max</th>\n",
       "    </tr>\n",
       "  </thead>\n",
       "  <tbody>\n",
       "    <tr>\n",
       "      <th>person_age</th>\n",
       "      <td>32581.0</td>\n",
       "      <td>27.734600</td>\n",
       "      <td>6.348078</td>\n",
       "      <td>20.00</td>\n",
       "      <td>23.00</td>\n",
       "      <td>26.000000</td>\n",
       "      <td>30.00</td>\n",
       "      <td>144.00</td>\n",
       "    </tr>\n",
       "    <tr>\n",
       "      <th>person_income</th>\n",
       "      <td>32581.0</td>\n",
       "      <td>66074.848470</td>\n",
       "      <td>61983.119168</td>\n",
       "      <td>4000.00</td>\n",
       "      <td>38500.00</td>\n",
       "      <td>55000.000000</td>\n",
       "      <td>79200.00</td>\n",
       "      <td>6000000.00</td>\n",
       "    </tr>\n",
       "    <tr>\n",
       "      <th>person_emp_length</th>\n",
       "      <td>32581.0</td>\n",
       "      <td>4.789686</td>\n",
       "      <td>4.085333</td>\n",
       "      <td>0.00</td>\n",
       "      <td>2.00</td>\n",
       "      <td>4.000000</td>\n",
       "      <td>7.00</td>\n",
       "      <td>123.00</td>\n",
       "    </tr>\n",
       "    <tr>\n",
       "      <th>loan_amnt</th>\n",
       "      <td>32581.0</td>\n",
       "      <td>9589.371106</td>\n",
       "      <td>6322.086646</td>\n",
       "      <td>500.00</td>\n",
       "      <td>5000.00</td>\n",
       "      <td>8000.000000</td>\n",
       "      <td>12200.00</td>\n",
       "      <td>35000.00</td>\n",
       "    </tr>\n",
       "    <tr>\n",
       "      <th>loan_int_rate</th>\n",
       "      <td>32581.0</td>\n",
       "      <td>11.011695</td>\n",
       "      <td>3.081605</td>\n",
       "      <td>5.42</td>\n",
       "      <td>8.49</td>\n",
       "      <td>11.011695</td>\n",
       "      <td>13.11</td>\n",
       "      <td>23.22</td>\n",
       "    </tr>\n",
       "    <tr>\n",
       "      <th>loan_status</th>\n",
       "      <td>32581.0</td>\n",
       "      <td>0.218164</td>\n",
       "      <td>0.413006</td>\n",
       "      <td>0.00</td>\n",
       "      <td>0.00</td>\n",
       "      <td>0.000000</td>\n",
       "      <td>0.00</td>\n",
       "      <td>1.00</td>\n",
       "    </tr>\n",
       "    <tr>\n",
       "      <th>loan_percent_income</th>\n",
       "      <td>32581.0</td>\n",
       "      <td>0.170203</td>\n",
       "      <td>0.106782</td>\n",
       "      <td>0.00</td>\n",
       "      <td>0.09</td>\n",
       "      <td>0.150000</td>\n",
       "      <td>0.23</td>\n",
       "      <td>0.83</td>\n",
       "    </tr>\n",
       "    <tr>\n",
       "      <th>cb_person_cred_hist_length</th>\n",
       "      <td>32581.0</td>\n",
       "      <td>5.804211</td>\n",
       "      <td>4.055001</td>\n",
       "      <td>2.00</td>\n",
       "      <td>3.00</td>\n",
       "      <td>4.000000</td>\n",
       "      <td>8.00</td>\n",
       "      <td>30.00</td>\n",
       "    </tr>\n",
       "  </tbody>\n",
       "</table>\n",
       "</div>"
      ],
      "text/plain": [
       "                              count          mean           std      min  \\\n",
       "person_age                  32581.0     27.734600      6.348078    20.00   \n",
       "person_income               32581.0  66074.848470  61983.119168  4000.00   \n",
       "person_emp_length           32581.0      4.789686      4.085333     0.00   \n",
       "loan_amnt                   32581.0   9589.371106   6322.086646   500.00   \n",
       "loan_int_rate               32581.0     11.011695      3.081605     5.42   \n",
       "loan_status                 32581.0      0.218164      0.413006     0.00   \n",
       "loan_percent_income         32581.0      0.170203      0.106782     0.00   \n",
       "cb_person_cred_hist_length  32581.0      5.804211      4.055001     2.00   \n",
       "\n",
       "                                 25%           50%       75%         max  \n",
       "person_age                     23.00     26.000000     30.00      144.00  \n",
       "person_income               38500.00  55000.000000  79200.00  6000000.00  \n",
       "person_emp_length               2.00      4.000000      7.00      123.00  \n",
       "loan_amnt                    5000.00   8000.000000  12200.00    35000.00  \n",
       "loan_int_rate                   8.49     11.011695     13.11       23.22  \n",
       "loan_status                     0.00      0.000000      0.00        1.00  \n",
       "loan_percent_income             0.09      0.150000      0.23        0.83  \n",
       "cb_person_cred_hist_length      3.00      4.000000      8.00       30.00  "
      ]
     },
     "execution_count": 50,
     "metadata": {},
     "output_type": "execute_result"
    }
   ],
   "source": [
    "base_credit.describe().T"
   ]
  },
  {
   "cell_type": "markdown",
   "id": "06209d5a",
   "metadata": {
    "ExecuteTime": {
     "end_time": "2021-05-22T18:27:33.997707Z",
     "start_time": "2021-05-22T18:27:33.992636Z"
    }
   },
   "source": [
    "### 3.3 Describing"
   ]
  },
  {
   "cell_type": "code",
   "execution_count": null,
   "id": "c7f840e0",
   "metadata": {},
   "outputs": [],
   "source": [
    "base_cre"
   ]
  },
  {
   "cell_type": "markdown",
   "id": "98548a84",
   "metadata": {
    "ExecuteTime": {
     "end_time": "2021-05-22T18:27:33.997707Z",
     "start_time": "2021-05-22T18:27:33.992636Z"
    }
   },
   "source": [
    "## 4.0 Exploratory Data Analysis"
   ]
  },
  {
   "cell_type": "markdown",
   "id": "6e20379f",
   "metadata": {
    "ExecuteTime": {
     "end_time": "2021-05-22T18:27:33.997707Z",
     "start_time": "2021-05-22T18:27:33.992636Z"
    }
   },
   "source": [
    "## 5.0 Models"
   ]
  },
  {
   "cell_type": "markdown",
   "id": "e590a07f",
   "metadata": {
    "ExecuteTime": {
     "end_time": "2021-05-22T18:27:33.997707Z",
     "start_time": "2021-05-22T18:27:33.992636Z"
    }
   },
   "source": [
    "## 6.0 Business Performance"
   ]
  },
  {
   "cell_type": "markdown",
   "id": "da86f377",
   "metadata": {
    "ExecuteTime": {
     "end_time": "2021-05-22T18:27:33.997707Z",
     "start_time": "2021-05-22T18:27:33.992636Z"
    }
   },
   "source": [
    "## 7.0 Production"
   ]
  },
  {
   "cell_type": "markdown",
   "id": "d4fceb3f",
   "metadata": {
    "ExecuteTime": {
     "end_time": "2021-05-22T18:27:33.997707Z",
     "start_time": "2021-05-22T18:27:33.992636Z"
    }
   },
   "source": [
    "## 8.0 Deployment"
   ]
  },
  {
   "cell_type": "code",
   "execution_count": null,
   "id": "69baa881",
   "metadata": {},
   "outputs": [],
   "source": []
  }
 ],
 "metadata": {
  "kernelspec": {
   "display_name": "Python 3",
   "language": "python",
   "name": "python3"
  },
  "language_info": {
   "codemirror_mode": {
    "name": "ipython",
    "version": 3
   },
   "file_extension": ".py",
   "mimetype": "text/x-python",
   "name": "python",
   "nbconvert_exporter": "python",
   "pygments_lexer": "ipython3",
   "version": "3.8.6"
  }
 },
 "nbformat": 4,
 "nbformat_minor": 5
}
